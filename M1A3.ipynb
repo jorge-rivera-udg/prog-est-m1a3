{
  "nbformat": 4,
  "nbformat_minor": 0,
  "metadata": {
    "colab": {
      "provenance": [],
      "toc_visible": true,
      "authorship_tag": "ABX9TyOo/giwxBOaito07ypT1Wa4",
      "include_colab_link": true
    },
    "kernelspec": {
      "name": "python3",
      "display_name": "Python 3"
    },
    "language_info": {
      "name": "python"
    }
  },
  "cells": [
    {
      "cell_type": "markdown",
      "metadata": {
        "id": "view-in-github",
        "colab_type": "text"
      },
      "source": [
        "<a href=\"https://colab.research.google.com/github/jorge-rivera-udg/prog-est-m1a3/blob/main/M1A3.ipynb\" target=\"_parent\"><img src=\"https://colab.research.google.com/assets/colab-badge.svg\" alt=\"Open In Colab\"/></a>"
      ]
    },
    {
      "cell_type": "markdown",
      "source": [
        "# Programación estructurada M1A3\n",
        "<hr>"
      ],
      "metadata": {
        "id": "NANTMTLFRo2A"
      }
    },
    {
      "cell_type": "markdown",
      "source": [
        "### Ejercicio 01. Perimetro - area"
      ],
      "metadata": {
        "id": "puoOmCb7Ot3o"
      }
    },
    {
      "cell_type": "code",
      "execution_count": null,
      "metadata": {
        "colab": {
          "base_uri": "https://localhost:8080/"
        },
        "id": "A8BWWz4IK3vl",
        "outputId": "0bd20e13-3eaf-430f-9524-9fd7c3c594ae"
      },
      "outputs": [
        {
          "output_type": "stream",
          "name": "stdout",
          "text": [
            "Cuánto mide la base? 86\n",
            "Cuánto mide la altura? 43\n",
            "El área del rectangulo es: 3698\n",
            "El perímetro del rectangulo es: 258\n"
          ]
        }
      ],
      "source": [
        "\"\"\"\n",
        "  Ejercicio 01. Calcula el perimetro y el área de un rectángulo, pedir al\n",
        "  usuario base y altura\n",
        "\"\"\"\n",
        "\n",
        "base = int(input(\"Cuánto mide la base? \"))\n",
        "altura = int(input(\"Cuánto mide la altura? \"))\n",
        "\n",
        "print(f\"El área del rectangulo es: {base*altura}\")\n",
        "print(f\"El perímetro del rectangulo es: {(base*2)+(altura*2)}\")\n"
      ]
    },
    {
      "cell_type": "markdown",
      "source": [
        "### Ejercicio 02. Hipotenusa"
      ],
      "metadata": {
        "id": "UOMZZMUDLXRa"
      }
    },
    {
      "cell_type": "code",
      "source": [
        "\"\"\"\n",
        "  Dados dos catetos de un triángulo rectángulo, calcule la hipotenusa\n",
        "  h^2 = a^2 + b^2\n",
        "\"\"\"\n",
        "\n",
        "import math\n",
        "\n",
        "a = float(input(\"Cuánto mide el lado a? \"))\n",
        "b = float(input(\"Cuánto mide el lado b? \"))\n",
        "\n",
        "h = math.sqrt(math.pow(a,2)+math.pow(b,2))\n",
        "\n",
        "print(f\"La hipotenusa mide: {h}\")\n"
      ],
      "metadata": {
        "colab": {
          "base_uri": "https://localhost:8080/"
        },
        "id": "LNvj-u2TLmZZ",
        "outputId": "52f71963-29a6-4ae6-c72d-e4157e2919a5"
      },
      "execution_count": null,
      "outputs": [
        {
          "output_type": "stream",
          "name": "stdout",
          "text": [
            "Cuánto mide el lado a? 4\n",
            "Cuánto mide el lado b? 3\n",
            "La hipotenusa mide: 5.0\n"
          ]
        }
      ]
    },
    {
      "cell_type": "markdown",
      "source": [
        "### Ejercicio 03. Operaciones básicas"
      ],
      "metadata": {
        "id": "oPx1U55FRFCg"
      }
    },
    {
      "cell_type": "code",
      "source": [
        "\"\"\"\n",
        "    Reciba dos números y en base a ellos, calcule la suma, resta, multiplicación y división\n",
        "\"\"\"\n",
        "\n",
        "num1 = int(input(\"Introduzca primer número: \"))\n",
        "num2 = int(input(\"Introduzca segundo número: \"))\n",
        "\n",
        "print(f\"La suma de {num1}+{num2} es: {num1+num2}\")\n",
        "print(f\"La resta de {num1}-{num2} es: {num1-num2}\")\n",
        "print(f\"la división de {num1}/{num2} es: {num1/num2}\")\n",
        "print(f\"La multiplicación de {num1}*{num2} es: {num1*num2}\")\n"
      ],
      "metadata": {
        "colab": {
          "base_uri": "https://localhost:8080/"
        },
        "id": "hLNGoeV0RQos",
        "outputId": "99ddbe77-cc26-419f-e11e-cb588458686d"
      },
      "execution_count": null,
      "outputs": [
        {
          "output_type": "stream",
          "name": "stdout",
          "text": [
            "Introduzca primer número: 8\n",
            "Introduzca segundo número: 14\n",
            "La suma de 8+14 es: 22\n",
            "La resta de 8-14 es: -6\n",
            "la división de 8/14 es: 0.5714285714285714\n",
            "La multiplicación de 8*14 es: 112\n"
          ]
        }
      ]
    },
    {
      "cell_type": "markdown",
      "source": [
        "### Ejercicio 04. Conversiones"
      ],
      "metadata": {
        "id": "shFs8eSHT0TG"
      }
    },
    {
      "cell_type": "code",
      "source": [
        "\"\"\"\n",
        "    Dada una temperatura en grados Fahrenheit convertirla a grados Celcius\n",
        "    F=(9*C)/5 + 32C\n",
        "    C=F-32 * (5/9)\n",
        "\"\"\"\n",
        "\n",
        "F = int(input(\"Introduzca la temperatura en ºF: \"))\n",
        "\n",
        "print(f\"La temperatura {F}ºF en ºC es: {(F-32)*(5/9)}\")\n"
      ],
      "metadata": {
        "colab": {
          "base_uri": "https://localhost:8080/"
        },
        "id": "yJVet3qeT7La",
        "outputId": "672655ab-4b9d-4805-e81c-9d9a985468de"
      },
      "execution_count": null,
      "outputs": [
        {
          "output_type": "stream",
          "name": "stdout",
          "text": [
            "Introduzca la temperatura en ºF: 101\n",
            "La temperatura 101ºF en ºC es: 38.333333333333336\n"
          ]
        }
      ]
    },
    {
      "cell_type": "markdown",
      "source": [
        "### Ejercicio 05. Media"
      ],
      "metadata": {
        "id": "wAXSnFgWqXCG"
      }
    },
    {
      "cell_type": "code",
      "source": [
        "\"\"\"\n",
        "    Dados 3 numeros, calcule la media.\n",
        "    Una variante de éste programa puede ser preguntar primero una cantidad de datos a introducir,\n",
        "    de ésta forma el programa será dinámico y permitirá calcular la media de cualquier serie de datos\n",
        "\"\"\"\n",
        "datos = []\n",
        "\n",
        "for n in range(3):\n",
        "    datos.append(int(input(\"Ingrese número: \")))\n",
        "\n",
        "media=0\n",
        "\n",
        "for n in datos:\n",
        "    media += n\n",
        "\n",
        "print(f\"La media es: {media/3}\")\n"
      ],
      "metadata": {
        "colab": {
          "base_uri": "https://localhost:8080/"
        },
        "id": "v3Hf7qEvqgbB",
        "outputId": "ecb4e9a9-204a-4251-b3e3-d402d6ddd1d8"
      },
      "execution_count": null,
      "outputs": [
        {
          "output_type": "stream",
          "name": "stdout",
          "text": [
            "Ingrese número: 8\n",
            "Ingrese número: 9\n",
            "Ingrese número: 12\n",
            "La media es: 9.666666666666666\n"
          ]
        }
      ]
    },
    {
      "cell_type": "markdown",
      "source": [
        "Ejercicio 06. Horas"
      ],
      "metadata": {
        "id": "_g_vdMpLsWSK"
      }
    },
    {
      "cell_type": "code",
      "source": [
        "\"\"\"\n",
        "    Dada una cantidad de minutos, calcule cuantas horas y minutos corresponden\n",
        "\"\"\"\n",
        "\n",
        "minutos = int(input(\"Ingrese los minutos a convertir: \"))\n",
        "\n",
        "hrs = int(minutos/60)\n",
        "min = int((minutos-(hrs*60)))\n",
        "\n",
        "print(f\"{minutos} minutos equivalen a {hrs} horas y {min} minutos\")\n"
      ],
      "metadata": {
        "colab": {
          "base_uri": "https://localhost:8080/"
        },
        "id": "ALl48MPzsdce",
        "outputId": "f92e0284-495e-4368-f8ec-ee5c5ec03b6e"
      },
      "execution_count": null,
      "outputs": [
        {
          "output_type": "stream",
          "name": "stdout",
          "text": [
            "Ingrese los minutos a convertir: 1000\n",
            "1000 minutos equivalen a 16 horas y 40 minutos\n"
          ]
        }
      ]
    },
    {
      "cell_type": "markdown",
      "source": [
        "Ejercicio 06. Horas, variante"
      ],
      "metadata": {
        "id": "Dz2VcSlZqwVt"
      }
    },
    {
      "cell_type": "code",
      "source": [
        "\"\"\"\n",
        "    Dada una cantidad de minutos, calcule cuantas horas y minutos corresponden\n",
        "\"\"\"\n",
        "\n",
        "minutos = int(input(\"Ingrese los minutos a convertir: \"))\n",
        "\n",
        "dias = 0\n",
        "hrs = int(minutos/60)\n",
        "min = int((minutos-(hrs*60)))\n",
        "\n",
        "if hrs > 24:\n",
        "    dias = int(hrs/24)\n",
        "    hrs = hrs-(dias*24)\n",
        "\n",
        "print(f\"{minutos} minutos equivalen a {dias} dias, {hrs} horas y {min} minutos\")\n"
      ],
      "metadata": {
        "colab": {
          "base_uri": "https://localhost:8080/"
        },
        "id": "8dddd3DEq9MO",
        "outputId": "d59e9b37-d0f9-401b-df3e-18ccca3f0e56"
      },
      "execution_count": null,
      "outputs": [
        {
          "output_type": "stream",
          "name": "stdout",
          "text": [
            "Ingrese los minutos a convertir: 2000\n",
            "2000 minutos equivalen a 1 dias, 9 horas y 20 minutos\n"
          ]
        }
      ]
    },
    {
      "cell_type": "markdown",
      "source": [
        "Ejercicio 07. Descuento"
      ],
      "metadata": {
        "id": "SDZvCzeSssZj"
      }
    },
    {
      "cell_type": "code",
      "source": [
        "\"\"\"\n",
        "    Dada una cantidad, aplique el 15% de descuento\n",
        "\"\"\"\n",
        "\n",
        "cant = float(input(\"introduzca la cantidad para el descuento: \"))\n",
        "\n",
        "print(f\"La cantidad a pagar con descuento es: {cant*0.85}\")\n"
      ],
      "metadata": {
        "colab": {
          "base_uri": "https://localhost:8080/"
        },
        "id": "osR6nSkNszZ4",
        "outputId": "8384c392-4b92-48bc-90d3-0ddbf19be392"
      },
      "execution_count": null,
      "outputs": [
        {
          "output_type": "stream",
          "name": "stdout",
          "text": [
            "introduzca la cantidad para el descuento: 2874.45\n",
            "La cantidad a pagar con descuento es: 2443.2825\n"
          ]
        }
      ]
    },
    {
      "cell_type": "markdown",
      "source": [
        "### Ejercicio 08. Inverso"
      ],
      "metadata": {
        "id": "ET_7jsN01Xy0"
      }
    },
    {
      "cell_type": "code",
      "source": [
        "\"\"\"\n",
        "    Dado un numero, encuentre su inverso.\n",
        "\"\"\"\n",
        "\n",
        "num = input(\"Ingrese una cantidad: \")\n",
        "\n",
        "print(f\"El inverso es: {num [::-1]}\")\n"
      ],
      "metadata": {
        "colab": {
          "base_uri": "https://localhost:8080/"
        },
        "id": "z_xIJTWC1jxA",
        "outputId": "0ae7b1d3-0496-4667-944e-5b24a8cb9a83"
      },
      "execution_count": 1,
      "outputs": [
        {
          "output_type": "stream",
          "name": "stdout",
          "text": [
            "Ingrese una cantidad: 3984\n",
            "El inverso es: 4893\n"
          ]
        }
      ]
    },
    {
      "cell_type": "markdown",
      "source": [
        "### Ejercicio 09. Iniciales"
      ],
      "metadata": {
        "id": "jv2U0Qlj1xrT"
      }
    },
    {
      "cell_type": "code",
      "source": [
        "\"\"\"\n",
        "    Dado el nombre y los apellidos, obtenga las iniciales\n",
        "\"\"\"\n",
        "\n",
        "nombre = input(\"Ingrese el nombre: \")\n",
        "apellido1 = input(\"Ingrese apellido paterno: \")\n",
        "apellido2 = input(\"Ingrese apellido materno: \")\n",
        "\n",
        "print(f\"Las iniciales son {nombre[0]}{apellido1[0]}{apellido2[0]}\")\n"
      ],
      "metadata": {
        "colab": {
          "base_uri": "https://localhost:8080/"
        },
        "id": "NpXfXORm14pn",
        "outputId": "0720e025-7044-430d-a26a-174d4e164359"
      },
      "execution_count": 3,
      "outputs": [
        {
          "output_type": "stream",
          "name": "stdout",
          "text": [
            "Ingrese el nombre: Jorge\n",
            "Ingrese apellido paterno: Rivera\n",
            "Ingrese apellido materno: Andrade\n",
            "Las iniciales son JRA\n"
          ]
        }
      ]
    },
    {
      "cell_type": "markdown",
      "source": [
        "### Ejercicio 10. Distancia"
      ],
      "metadata": {
        "id": "asO4ZpvI2lOV"
      }
    },
    {
      "cell_type": "code",
      "source": [
        "\"\"\"\n",
        "    Pida dos coordenadas bidimensionales y en base a ellas calcule la distancia de dichos puntos\n",
        "\"\"\"\n",
        "\n",
        "import math\n",
        "\n",
        "x1 = int(input(\"Ingrese x1: \"))\n",
        "y1 = int(input(\"Ingrese y1: \"))\n",
        "x2 = int(input(\"Ingrese x2: \"))\n",
        "y2 = int(input(\"Ingrese y2: \"))\n",
        "\n",
        "x= x2-x1\n",
        "y= y2-y1\n",
        "\n",
        "print(f\"La distancia entre los dos puntos es: {math.sqrt(math.pow(x,2)+math.pow(y,2))}\")\n"
      ],
      "metadata": {
        "colab": {
          "base_uri": "https://localhost:8080/"
        },
        "id": "EybciWD32srQ",
        "outputId": "c9b503f7-e8d9-4cbb-c035-4602c5af36ee"
      },
      "execution_count": 5,
      "outputs": [
        {
          "output_type": "stream",
          "name": "stdout",
          "text": [
            "Ingrese x1: 0\n",
            "Ingrese y1: 4\n",
            "Ingrese x2: 3\n",
            "Ingrese y2: 0\n",
            "La distancia entre los dos puntos es: 5.0\n"
          ]
        }
      ]
    }
  ]
}