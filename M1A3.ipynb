{
  "nbformat": 4,
  "nbformat_minor": 0,
  "metadata": {
    "colab": {
      "provenance": [],
      "toc_visible": true,
      "authorship_tag": "ABX9TyNHDwoAtA8Ik5UnS+nlre5O",
      "include_colab_link": true
    },
    "kernelspec": {
      "name": "python3",
      "display_name": "Python 3"
    },
    "language_info": {
      "name": "python"
    }
  },
  "cells": [
    {
      "cell_type": "markdown",
      "metadata": {
        "id": "view-in-github",
        "colab_type": "text"
      },
      "source": [
        "<a href=\"https://colab.research.google.com/github/jorge-rivera-udg/prog-est-m1a3/blob/main/M1A3.ipynb\" target=\"_parent\"><img src=\"https://colab.research.google.com/assets/colab-badge.svg\" alt=\"Open In Colab\"/></a>"
      ]
    },
    {
      "cell_type": "code",
      "execution_count": 1,
      "metadata": {
        "colab": {
          "base_uri": "https://localhost:8080/"
        },
        "id": "A8BWWz4IK3vl",
        "outputId": "b9d166de-111c-4ccf-c2eb-20865398c44d"
      },
      "outputs": [
        {
          "output_type": "stream",
          "name": "stdout",
          "text": [
            "Cuánto mide la base? 8\n",
            "Cuánto mide la altura? 9\n",
            "El área del rectangulo es: 72\n",
            "El perímetro del rectangulo es: 34\n"
          ]
        }
      ],
      "source": [
        "\"\"\"\n",
        "  Ejercicio 01. Calcula el perimetro y el área de un rectángulo, pedir al\n",
        "  usuario base y altura\n",
        "\"\"\"\n",
        "\n",
        "base = int(input(\"Cuánto mide la base? \"))\n",
        "altura = int(input(\"Cuánto mide la altura? \"))\n",
        "\n",
        "print(f\"El área del rectangulo es: {base*altura}\")\n",
        "print(f\"El perímetro del rectangulo es: {(base*2)+(altura*2)}\")\n",
        "\n",
        "#Este es"
      ]
    },
    {
      "cell_type": "markdown",
      "source": [
        "# New Section"
      ],
      "metadata": {
        "id": "UOMZZMUDLXRa"
      }
    },
    {
      "cell_type": "code",
      "source": [],
      "metadata": {
        "id": "LNvj-u2TLmZZ"
      },
      "execution_count": null,
      "outputs": []
    }
  ]
}