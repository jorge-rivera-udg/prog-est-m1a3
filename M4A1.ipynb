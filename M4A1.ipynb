{
  "nbformat": 4,
  "nbformat_minor": 0,
  "metadata": {
    "colab": {
      "provenance": [],
      "authorship_tag": "ABX9TyOiW8qInY72eMF7Vg+408jN",
      "include_colab_link": true
    },
    "kernelspec": {
      "name": "python3",
      "display_name": "Python 3"
    },
    "language_info": {
      "name": "python"
    }
  },
  "cells": [
    {
      "cell_type": "markdown",
      "metadata": {
        "id": "view-in-github",
        "colab_type": "text"
      },
      "source": [
        "<a href=\"https://colab.research.google.com/github/jorge-rivera-udg/prog-est-m1a3/blob/main/M4A1.ipynb\" target=\"_parent\"><img src=\"https://colab.research.google.com/assets/colab-badge.svg\" alt=\"Open In Colab\"/></a>"
      ]
    },
    {
      "cell_type": "markdown",
      "source": [
        "# Programación Estructurada. Tarea M4A1"
      ],
      "metadata": {
        "id": "jtAo5WUIg9ez"
      }
    },
    {
      "cell_type": "markdown",
      "source": [
        "### Ejercicio 01. Saludo\n",
        "\n",
        "Escribe una función a la que se le pase una cadena ```nombre``` y muestre por pantalla el saludo ¡hola ```nombre```!."
      ],
      "metadata": {
        "id": "XZAPiaFjizYG"
      }
    },
    {
      "cell_type": "code",
      "execution_count": null,
      "metadata": {
        "colab": {
          "base_uri": "https://localhost:8080/"
        },
        "id": "0Px76XN3YB13",
        "outputId": "4b5460b4-88c1-4d47-a83d-6f41e207f7f9"
      },
      "outputs": [
        {
          "output_type": "stream",
          "name": "stdout",
          "text": [
            "Introduce tu nombre: Jorge\n",
            "¡Hola, Jorge!\n"
          ]
        }
      ],
      "source": [
        "\"\"\"\n",
        "Esta función recibe un nombre y muestra un saludo en pantalla.\n",
        "\n",
        ":param nombre: El nombre de la persona a saludar.\n",
        "\"\"\"\n",
        "def saludar(nombre):\n",
        "    print(f\"¡Hola, {nombre}!\")\n",
        "\n",
        "# Ejemplo de uso\n",
        "\n",
        "\n",
        "nombre = input(\"Introduce tu nombre: \")\n",
        "saludar(nombre)\n",
        "\n",
        "# fin"
      ]
    },
    {
      "cell_type": "markdown",
      "source": [
        "### Ejercicio 02. Impuesto\n",
        "\n",
        "Escriba una función que calcule el total de una factura tras aplicarle el IVA. La función debe recibir la cantidad sin IVA y el porcentaje de IVA a aplicar, y devolver el total de la factura. Si se invoca la función sin pasarle el porcentaje de IVA, deberá aplicar un 16%"
      ],
      "metadata": {
        "id": "Ln9rF7FmiQ50"
      }
    },
    {
      "cell_type": "code",
      "source": [
        "\"\"\"\n",
        "Esta función calcula el total de una factura tras aplicarle el IVA.\n",
        "\n",
        ":param cantidad_sin_iva: La cantidad sin IVA.\n",
        ":param porcentaje_iva: El porcentaje de IVA a aplicar (por defecto es 16%).\n",
        ":return: El total de la factura con IVA incluido.\n",
        "\"\"\"\n",
        "def calcular_total_factura(monto, impuesto=16):\n",
        "    iva = (monto * impuesto) / 100\n",
        "    total_con_iva = monto + iva\n",
        "\n",
        "    return total_con_iva\n",
        "\n",
        "# Ejemplo de uso\n",
        "monto = float(input(\"Introduce el monto sin IVA: \"))\n",
        "impuesto = float(input(\"Introduce el porcentaje de IVA (dejar en blanco para 16%): \") or 0)\n",
        "\n",
        "if impuesto > 0:\n",
        "  total = calcular_total_factura(monto, impuesto)\n",
        "else:\n",
        "  total = calcular_total_factura(monto)\n",
        "\n",
        "print(f\"El total de la factura es: {total}\")\n",
        "\n",
        "# fin"
      ],
      "metadata": {
        "colab": {
          "base_uri": "https://localhost:8080/"
        },
        "id": "5PfiL1BPiWuR",
        "outputId": "d137282f-52f1-4ba2-f5af-db5351ccb993"
      },
      "execution_count": null,
      "outputs": [
        {
          "output_type": "stream",
          "name": "stdout",
          "text": [
            "Introduce el monto sin IVA: 350\n",
            "Introduce el porcentaje de IVA (dejar en blanco para 16%): 5\n",
            "El total de la factura es: 367.5\n"
          ]
        }
      ]
    },
    {
      "cell_type": "markdown",
      "source": [
        "### Ejercicio 03. Cilindro\n",
        "\n",
        "Escribe una función que calcule el área de un círculo y otra que calcule el volumen de un cilindro usando la primera función"
      ],
      "metadata": {
        "id": "tkD_ZDoqkzL4"
      }
    },
    {
      "cell_type": "code",
      "source": [
        "import math\n",
        "\n",
        "\"\"\"\n",
        "Esta función calcula el área de un círculo dado su radio.\n",
        ":param radio: El radio del círculo.\n",
        ":return: El área del círculo.\n",
        "\"\"\"\n",
        "def calcular_area_circulo(radio):\n",
        "    return  math.pi * radio ** 2\n",
        "\n",
        "\n",
        "\"\"\"\n",
        "Esta función calcula el volumen de un cilindro dado su radio y altura.\n",
        ":param radio: El radio de la base del cilindro.\n",
        ":param altura: La altura del cilindro.\n",
        ":return: El volumen del cilindro.\n",
        "\"\"\"\n",
        "def calcular_volumen_cilindro(radio, altura):\n",
        "    area_base = calcular_area_circulo(radio)\n",
        "    return area_base * altura\n",
        "\n",
        "\n",
        "# Ejemplo de uso\n",
        "radio = float(input(\"Introduce el radio del cilindro: \"))\n",
        "altura = float(input(\"Introduce la altura del cilindro: \"))\n",
        "\n",
        "print(f\"El volumen del cilindro es: {calcular_volumen_cilindro(radio, altura)}\")\n",
        "# fin"
      ],
      "metadata": {
        "colab": {
          "base_uri": "https://localhost:8080/"
        },
        "id": "z1wOs3Fgk35B",
        "outputId": "2d599cdb-c525-463c-d40c-bbba14443acf"
      },
      "execution_count": null,
      "outputs": [
        {
          "output_type": "stream",
          "name": "stdout",
          "text": [
            "Introduce el radio del cilindro: 5\n",
            "Introduce la altura del cilindro: 5\n",
            "El volumen del cilindro es: 392.69908169872417\n"
          ]
        }
      ]
    },
    {
      "cell_type": "markdown",
      "source": [
        "### Ejercicio 04. Login\n",
        "\n",
        "Escriba una funcion llamada “Login”, que recibe un nombre de usuario y una contraseña y te devuelve Verdadero si el nombre de usuario es “usuario1” y la contraseña es “asdasd”. Además recibe el número de intentos que se ha intentado hacer login y si no se ha podido hacer login incremente este valor.\n",
        "Crear un programa principal donde se pida un nombre de usuario y una contraseña y se intente hacer login, solamente tenemos tres oportunidades para intentarlo."
      ],
      "metadata": {
        "id": "2lblraI7laTI"
      }
    },
    {
      "cell_type": "code",
      "source": [
        "\"\"\"\n",
        "Esta función verifica si el nombre de usuario y la contraseña son correctos.\n",
        "\n",
        ":param usuario: El nombre de usuario a verificar.\n",
        ":param contrasena: La contraseña a verificar.\n",
        ":param intentos: El número de intentos realizados.\n",
        ":return: Verdadero si el login es exitoso, Falso en caso contrario.\n",
        "\"\"\"\n",
        "def login(usuario, contrasena, intentos):\n",
        "\n",
        "    if usuario == \"usuario1\" and contrasena == \"asdasd\":\n",
        "        return True\n",
        "    else:\n",
        "        return False, intentos + 1\n",
        "\n",
        "\n",
        "\n",
        "# Programa principal\n",
        "intentos = 0\n",
        "max_intentos = 3\n",
        "\n",
        "while intentos < max_intentos:\n",
        "    usuario = input(\"Introduce tu nombre de usuario: \")\n",
        "    contrasena = input(\"Introduce tu contraseña: \")\n",
        "\n",
        "    res = login(usuario, contrasena, intentos)\n",
        "\n",
        "    if res == True:\n",
        "        print(\"¡Login exitoso!\")\n",
        "        break\n",
        "    else:\n",
        "        intentos = res[1]\n",
        "        print(f\"Login fallido. Intentos restantes: {max_intentos - intentos}\")\n",
        "        if intentos == max_intentos:\n",
        "            print(\"Has alcanzado el número máximo de intentos. Acceso denegado.\")\n",
        "\n",
        "# fin\n"
      ],
      "metadata": {
        "colab": {
          "base_uri": "https://localhost:8080/"
        },
        "id": "cfv70GOtlmDX",
        "outputId": "1dd59214-d302-49a7-cddf-ad72aa0ab7df"
      },
      "execution_count": null,
      "outputs": [
        {
          "output_type": "stream",
          "name": "stdout",
          "text": [
            "Introduce tu nombre de usuario: jorge\n",
            "Introduce tu contraseña: wqerwg\n",
            "Login fallido. Intentos restantes: 2\n",
            "Introduce tu nombre de usuario: jorge\n",
            "Introduce tu contraseña: grhyh\n",
            "Login fallido. Intentos restantes: 1\n",
            "Introduce tu nombre de usuario: jorge\n",
            "Introduce tu contraseña: tyhrqq\n",
            "Login fallido. Intentos restantes: 0\n",
            "Has alcanzado el número máximo de intentos. Acceso denegado.\n"
          ]
        }
      ]
    }
  ]
}